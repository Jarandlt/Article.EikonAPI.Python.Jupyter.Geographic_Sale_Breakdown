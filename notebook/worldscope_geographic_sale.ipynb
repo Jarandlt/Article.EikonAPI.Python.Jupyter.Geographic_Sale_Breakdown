{
 "cells": [
  {
   "cell_type": "markdown",
   "metadata": {},
   "source": [
    "# World Scope Geographic Sales Breakdown\n",
    "\n",
    "This model uses Worldscope Geographic Segment data for sales to display the key countries and regions for the constituents of an index. The template then aggregates the data so users can see the breakdown for the index itself."
   ]
  },
  {
   "cell_type": "code",
   "execution_count": 1,
   "metadata": {},
   "outputs": [],
   "source": [
    "#Imporint Eikon and Main Modules\n",
    "\n",
    "import eikon as ek\n",
    "import configparser as cp\n",
    "import warnings\n",
    "import numpy as np\n",
    "import pandas as pd\n",
    "import matplotlib.pyplot as plt\n",
    "import matplotlib\n",
    "import matplotlib.ticker as tick\n",
    "from matplotlib.ticker import FuncFormatter\n",
    "\n",
    "\n",
    "warnings.filterwarnings('ignore')"
   ]
  },
  {
   "cell_type": "markdown",
   "metadata": {},
   "source": [
    "You should save a text file with **filename** `eikon.cfg` having the following contents:\n",
    "\n",
    "    [eikon]\n",
    "    app_id = YOUR_APP_ID_HERE\n",
    "    \n",
    "This file should be readily availble (e.g. in the current working directory) for the next steps."
   ]
  },
  {
   "cell_type": "code",
   "execution_count": 2,
   "metadata": {},
   "outputs": [
    {
     "data": {
      "text/plain": [
       "['eikon.cfg']"
      ]
     },
     "execution_count": 2,
     "metadata": {},
     "output_type": "execute_result"
    }
   ],
   "source": [
    "cfg = cp.ConfigParser()\n",
    "cfg.read('eikon.cfg')  # adjust for different file location"
   ]
  },
  {
   "cell_type": "code",
   "execution_count": 3,
   "metadata": {},
   "outputs": [],
   "source": [
    "ek.set_app_key(cfg['eikon']['app_id']) #set_app_id function being deprecated"
   ]
  },
  {
   "cell_type": "markdown",
   "metadata": {},
   "source": [
    "## Data API Fields\n",
    "\n",
    "The fields providing geographic breakdown of the company's fundamentals are\n",
    "- ```TR.BGS.GeoTotalRevenue```\n",
    "- ```TR.BGS.GeoTotalRevenue.segmentName```\n",
    "\n",
    "### TR.BGS.GeoTotalRevenue\n",
    "Geographic Total Revenues (Calculated). \n",
    "* Value unit: Millions"
   ]
  },
  {
   "cell_type": "markdown",
   "metadata": {},
   "source": [
    "### Nintendo \n",
    "\n",
    "RIC: 7974.T"
   ]
  },
  {
   "cell_type": "code",
   "execution_count": 4,
   "metadata": {},
   "outputs": [],
   "source": [
    "df,err = ek.get_data('7974.T', ['TR.BGS.GeoTotalRevenue.segmentName', 'TR.BGS.GeoTotalRevenue'])"
   ]
  },
  {
   "cell_type": "code",
   "execution_count": 5,
   "metadata": {},
   "outputs": [],
   "source": [
    "#df.columns"
   ]
  },
  {
   "cell_type": "code",
   "execution_count": 6,
   "metadata": {},
   "outputs": [
    {
     "data": {
      "text/html": [
       "<div>\n",
       "<style scoped>\n",
       "    .dataframe tbody tr th:only-of-type {\n",
       "        vertical-align: middle;\n",
       "    }\n",
       "\n",
       "    .dataframe tbody tr th {\n",
       "        vertical-align: top;\n",
       "    }\n",
       "\n",
       "    .dataframe thead th {\n",
       "        text-align: right;\n",
       "    }\n",
       "</style>\n",
       "<table border=\"1\" class=\"dataframe\">\n",
       "  <thead>\n",
       "    <tr style=\"text-align: right;\">\n",
       "      <th></th>\n",
       "      <th>RIC</th>\n",
       "      <th>Geographic</th>\n",
       "      <th>Sales in £m</th>\n",
       "    </tr>\n",
       "  </thead>\n",
       "  <tbody>\n",
       "    <tr>\n",
       "      <th>0</th>\n",
       "      <td>7974.T</td>\n",
       "      <td>Japan</td>\n",
       "      <td>265722000000</td>\n",
       "    </tr>\n",
       "    <tr>\n",
       "      <th>1</th>\n",
       "      <td>7974.T</td>\n",
       "      <td>Americas</td>\n",
       "      <td>528895000000</td>\n",
       "    </tr>\n",
       "    <tr>\n",
       "      <th>2</th>\n",
       "      <td>7974.T</td>\n",
       "      <td>Europe</td>\n",
       "      <td>304552000000</td>\n",
       "    </tr>\n",
       "    <tr>\n",
       "      <th>3</th>\n",
       "      <td>7974.T</td>\n",
       "      <td>Other Foreign</td>\n",
       "      <td>101389000000</td>\n",
       "    </tr>\n",
       "    <tr>\n",
       "      <th>4</th>\n",
       "      <td>7974.T</td>\n",
       "      <td>Segment Total</td>\n",
       "      <td>1200558000000</td>\n",
       "    </tr>\n",
       "    <tr>\n",
       "      <th>5</th>\n",
       "      <td>7974.T</td>\n",
       "      <td>Consolidated Total</td>\n",
       "      <td>1200558000000</td>\n",
       "    </tr>\n",
       "  </tbody>\n",
       "</table>\n",
       "</div>"
      ],
      "text/plain": [
       "      RIC          Geographic    Sales in £m\n",
       "0  7974.T               Japan   265722000000\n",
       "1  7974.T            Americas   528895000000\n",
       "2  7974.T              Europe   304552000000\n",
       "3  7974.T       Other Foreign   101389000000\n",
       "4  7974.T       Segment Total  1200558000000\n",
       "5  7974.T  Consolidated Total  1200558000000"
      ]
     },
     "execution_count": 6,
     "metadata": {},
     "output_type": "execute_result"
    }
   ],
   "source": [
    "df_nintendo = df.copy()\n",
    "\n",
    "df_nintendo.rename(columns={'Instrument':'RIC',\n",
    "                   'Segment Name':'Geographic',\n",
    "                   'Geographic Total Revenues (Calculated)':'Sales in £m'},\n",
    "         inplace = True)\n",
    "\n",
    "df_nintendo"
   ]
  },
  {
   "cell_type": "code",
   "execution_count": 7,
   "metadata": {},
   "outputs": [],
   "source": [
    "total_sale = df_nintendo.iloc[df_nintendo.shape[0] - 1][\"Sales in £m\"]"
   ]
  },
  {
   "cell_type": "code",
   "execution_count": 8,
   "metadata": {},
   "outputs": [],
   "source": [
    "df_nintendo = df_nintendo[df_nintendo[\"Geographic\"] != \"Segment Total\"]\n",
    "df_nintendo = df_nintendo[df_nintendo[\"Geographic\"] != \"Consolidated Total\"]"
   ]
  },
  {
   "cell_type": "code",
   "execution_count": 9,
   "metadata": {},
   "outputs": [],
   "source": [
    "def millions(x, pos):\n",
    "    'The two args are the value and tick position'\n",
    "    return '$%1.1fM' % (x * 1e-11)"
   ]
  },
  {
   "cell_type": "code",
   "execution_count": 10,
   "metadata": {},
   "outputs": [
    {
     "data": {
      "image/png": "[encoded data removed]",
      "text/plain": [
       "<Figure size 432x288 with 1 Axes>"
      ]
     },
     "metadata": {
      "needs_background": "light"
     },
     "output_type": "display_data"
    }
   ],
   "source": [
    "# Graph\n",
    "\n",
    "df_nintendo.set_index(\"Geographic\",drop=True,inplace=True)\n",
    "\n",
    "\n",
    "\n",
    "fig = plt.figure()\n",
    "fig.text(.5, -.05, \"Total Sale %s\" %(f\"{total_sale:,.2f}\"), ha=\"center\",fontsize=\"large\")\n",
    "\n",
    "plt.ticklabel_format(style = 'plain')\n",
    "plt.title('Nintendo Geographic Sale Breakdown', color='black',fontsize=\"x-large\")\n",
    "ax = fig.gca()\n",
    "\n",
    "formatter = FuncFormatter(millions)\n",
    "ax.xaxis.set_major_formatter(formatter)\n",
    "\n",
    "df_nintendo.plot(kind='barh', ax = fig.gca())\n",
    "plt.show()"
   ]
  },
  {
   "cell_type": "markdown",
   "metadata": {},
   "source": [
    "### Sony\n",
    "RIC: 6758.T"
   ]
  },
  {
   "cell_type": "code",
   "execution_count": 11,
   "metadata": {},
   "outputs": [
    {
     "data": {
      "text/html": [
       "<div>\n",
       "<style scoped>\n",
       "    .dataframe tbody tr th:only-of-type {\n",
       "        vertical-align: middle;\n",
       "    }\n",
       "\n",
       "    .dataframe tbody tr th {\n",
       "        vertical-align: top;\n",
       "    }\n",
       "\n",
       "    .dataframe thead th {\n",
       "        text-align: right;\n",
       "    }\n",
       "</style>\n",
       "<table border=\"1\" class=\"dataframe\">\n",
       "  <thead>\n",
       "    <tr style=\"text-align: right;\">\n",
       "      <th></th>\n",
       "      <th>Instrument</th>\n",
       "      <th>Segment Name</th>\n",
       "      <th>Geographic Total Revenues (Calculated)</th>\n",
       "    </tr>\n",
       "  </thead>\n",
       "  <tbody>\n",
       "    <tr>\n",
       "      <th>0</th>\n",
       "      <td>6758.T</td>\n",
       "      <td>Japan</td>\n",
       "      <td>2591784000000</td>\n",
       "    </tr>\n",
       "    <tr>\n",
       "      <th>1</th>\n",
       "      <td>6758.T</td>\n",
       "      <td>United States</td>\n",
       "      <td>1982135000000</td>\n",
       "    </tr>\n",
       "    <tr>\n",
       "      <th>2</th>\n",
       "      <td>6758.T</td>\n",
       "      <td>Europe</td>\n",
       "      <td>1862166000000</td>\n",
       "    </tr>\n",
       "    <tr>\n",
       "      <th>3</th>\n",
       "      <td>6758.T</td>\n",
       "      <td>China</td>\n",
       "      <td>770416000000</td>\n",
       "    </tr>\n",
       "    <tr>\n",
       "      <th>4</th>\n",
       "      <td>6758.T</td>\n",
       "      <td>Other Regions</td>\n",
       "      <td>546993000000</td>\n",
       "    </tr>\n",
       "    <tr>\n",
       "      <th>5</th>\n",
       "      <td>6758.T</td>\n",
       "      <td>Asia/Oceania</td>\n",
       "      <td>912193000000</td>\n",
       "    </tr>\n",
       "    <tr>\n",
       "      <th>6</th>\n",
       "      <td>6758.T</td>\n",
       "      <td>Segment Total</td>\n",
       "      <td>8665687000000</td>\n",
       "    </tr>\n",
       "    <tr>\n",
       "      <th>7</th>\n",
       "      <td>6758.T</td>\n",
       "      <td>Consolidated Total</td>\n",
       "      <td>8665687000000</td>\n",
       "    </tr>\n",
       "  </tbody>\n",
       "</table>\n",
       "</div>"
      ],
      "text/plain": [
       "  Instrument        Segment Name  Geographic Total Revenues (Calculated)\n",
       "0     6758.T               Japan                           2591784000000\n",
       "1     6758.T       United States                           1982135000000\n",
       "2     6758.T              Europe                           1862166000000\n",
       "3     6758.T               China                            770416000000\n",
       "4     6758.T       Other Regions                            546993000000\n",
       "5     6758.T        Asia/Oceania                            912193000000\n",
       "6     6758.T       Segment Total                           8665687000000\n",
       "7     6758.T  Consolidated Total                           8665687000000"
      ]
     },
     "execution_count": 11,
     "metadata": {},
     "output_type": "execute_result"
    }
   ],
   "source": [
    "df,err = ek.get_data('6758.T', ['TR.BGS.GeoTotalRevenue.segmentName', 'TR.BGS.GeoTotalRevenue'])\n",
    "df"
   ]
  },
  {
   "cell_type": "code",
   "execution_count": 12,
   "metadata": {},
   "outputs": [
    {
     "data": {
      "text/html": [
       "<div>\n",
       "<style scoped>\n",
       "    .dataframe tbody tr th:only-of-type {\n",
       "        vertical-align: middle;\n",
       "    }\n",
       "\n",
       "    .dataframe tbody tr th {\n",
       "        vertical-align: top;\n",
       "    }\n",
       "\n",
       "    .dataframe thead th {\n",
       "        text-align: right;\n",
       "    }\n",
       "</style>\n",
       "<table border=\"1\" class=\"dataframe\">\n",
       "  <thead>\n",
       "    <tr style=\"text-align: right;\">\n",
       "      <th></th>\n",
       "      <th>RIC</th>\n",
       "      <th>Geographic</th>\n",
       "      <th>Sales in £m</th>\n",
       "    </tr>\n",
       "  </thead>\n",
       "  <tbody>\n",
       "    <tr>\n",
       "      <th>0</th>\n",
       "      <td>6758.T</td>\n",
       "      <td>Japan</td>\n",
       "      <td>2591784000000</td>\n",
       "    </tr>\n",
       "    <tr>\n",
       "      <th>1</th>\n",
       "      <td>6758.T</td>\n",
       "      <td>United States</td>\n",
       "      <td>1982135000000</td>\n",
       "    </tr>\n",
       "    <tr>\n",
       "      <th>2</th>\n",
       "      <td>6758.T</td>\n",
       "      <td>Europe</td>\n",
       "      <td>1862166000000</td>\n",
       "    </tr>\n",
       "    <tr>\n",
       "      <th>3</th>\n",
       "      <td>6758.T</td>\n",
       "      <td>China</td>\n",
       "      <td>770416000000</td>\n",
       "    </tr>\n",
       "    <tr>\n",
       "      <th>4</th>\n",
       "      <td>6758.T</td>\n",
       "      <td>Other Regions</td>\n",
       "      <td>546993000000</td>\n",
       "    </tr>\n",
       "    <tr>\n",
       "      <th>5</th>\n",
       "      <td>6758.T</td>\n",
       "      <td>Asia/Oceania</td>\n",
       "      <td>912193000000</td>\n",
       "    </tr>\n",
       "    <tr>\n",
       "      <th>6</th>\n",
       "      <td>6758.T</td>\n",
       "      <td>Segment Total</td>\n",
       "      <td>8665687000000</td>\n",
       "    </tr>\n",
       "    <tr>\n",
       "      <th>7</th>\n",
       "      <td>6758.T</td>\n",
       "      <td>Consolidated Total</td>\n",
       "      <td>8665687000000</td>\n",
       "    </tr>\n",
       "  </tbody>\n",
       "</table>\n",
       "</div>"
      ],
      "text/plain": [
       "      RIC          Geographic    Sales in £m\n",
       "0  6758.T               Japan  2591784000000\n",
       "1  6758.T       United States  1982135000000\n",
       "2  6758.T              Europe  1862166000000\n",
       "3  6758.T               China   770416000000\n",
       "4  6758.T       Other Regions   546993000000\n",
       "5  6758.T        Asia/Oceania   912193000000\n",
       "6  6758.T       Segment Total  8665687000000\n",
       "7  6758.T  Consolidated Total  8665687000000"
      ]
     },
     "execution_count": 12,
     "metadata": {},
     "output_type": "execute_result"
    }
   ],
   "source": [
    "df_sony = df.copy()\n",
    "\n",
    "df_sony.rename(columns={'Instrument':'RIC',\n",
    "                   'Segment Name':'Geographic',\n",
    "                   'Geographic Total Revenues (Calculated)':'Sales in £m'},\n",
    "         inplace = True)\n",
    "df_sony"
   ]
  },
  {
   "cell_type": "code",
   "execution_count": 13,
   "metadata": {},
   "outputs": [],
   "source": [
    "total_sale = df_sony.iloc[df_sony.shape[0] - 1][\"Sales in £m\"]"
   ]
  },
  {
   "cell_type": "code",
   "execution_count": 14,
   "metadata": {},
   "outputs": [],
   "source": [
    "df_sony = df_sony[df_sony[\"Geographic\"] != \"Segment Total\"]\n",
    "df_sony = df_sony[df_sony[\"Geographic\"] != \"Consolidated Total\"]"
   ]
  },
  {
   "cell_type": "code",
   "execution_count": 15,
   "metadata": {},
   "outputs": [
    {
     "data": {
      "image/png": "[encoded data removed]",
      "text/plain": [
       "<Figure size 432x288 with 1 Axes>"
      ]
     },
     "metadata": {
      "needs_background": "light"
     },
     "output_type": "display_data"
    }
   ],
   "source": [
    "# Graph\n",
    "\n",
    "df_sony.set_index(\"Geographic\",drop=True,inplace=True)\n",
    "\n",
    "fig = plt.figure()\n",
    "fig.text(.5, -.05, \"Total Sale %s\" %(f\"{total_sale:,.2f}\"), ha=\"center\",fontsize=\"large\")\n",
    "\n",
    "plt.ticklabel_format(style = 'plain')\n",
    "plt.title('Sony Geographic Sale Breakdown', color='black',fontsize=\"x-large\")\n",
    "ax = fig.gca()\n",
    "\n",
    "formatter = FuncFormatter(millions)\n",
    "ax.xaxis.set_major_formatter(formatter)\n",
    "\n",
    "df_sony.plot(kind='barh', ax = fig.gca())\n",
    "plt.show()"
   ]
  },
  {
   "cell_type": "markdown",
   "metadata": {},
   "source": [
    "### SEGA\n",
    "\n",
    "RIC: 6460.T"
   ]
  },
  {
   "cell_type": "code",
   "execution_count": 16,
   "metadata": {},
   "outputs": [
    {
     "data": {
      "text/html": [
       "<div>\n",
       "<style scoped>\n",
       "    .dataframe tbody tr th:only-of-type {\n",
       "        vertical-align: middle;\n",
       "    }\n",
       "\n",
       "    .dataframe tbody tr th {\n",
       "        vertical-align: top;\n",
       "    }\n",
       "\n",
       "    .dataframe thead th {\n",
       "        text-align: right;\n",
       "    }\n",
       "</style>\n",
       "<table border=\"1\" class=\"dataframe\">\n",
       "  <thead>\n",
       "    <tr style=\"text-align: right;\">\n",
       "      <th></th>\n",
       "      <th>Instrument</th>\n",
       "      <th>Segment Name</th>\n",
       "      <th>Geographic Total Revenues (Calculated)</th>\n",
       "    </tr>\n",
       "  </thead>\n",
       "  <tbody>\n",
       "    <tr>\n",
       "      <th>0</th>\n",
       "      <td>6460.T</td>\n",
       "      <td>Japan</td>\n",
       "      <td>277903000000</td>\n",
       "    </tr>\n",
       "    <tr>\n",
       "      <th>1</th>\n",
       "      <td>6460.T</td>\n",
       "      <td>Northern America</td>\n",
       "      <td>33373000000</td>\n",
       "    </tr>\n",
       "    <tr>\n",
       "      <th>2</th>\n",
       "      <td>6460.T</td>\n",
       "      <td>Europe</td>\n",
       "      <td>10937000000</td>\n",
       "    </tr>\n",
       "    <tr>\n",
       "      <th>3</th>\n",
       "      <td>6460.T</td>\n",
       "      <td>Other</td>\n",
       "      <td>9433000000</td>\n",
       "    </tr>\n",
       "    <tr>\n",
       "      <th>4</th>\n",
       "      <td>6460.T</td>\n",
       "      <td>Segment Total</td>\n",
       "      <td>331646000000</td>\n",
       "    </tr>\n",
       "    <tr>\n",
       "      <th>5</th>\n",
       "      <td>6460.T</td>\n",
       "      <td>Consolidated Total</td>\n",
       "      <td>331646000000</td>\n",
       "    </tr>\n",
       "  </tbody>\n",
       "</table>\n",
       "</div>"
      ],
      "text/plain": [
       "  Instrument        Segment Name  Geographic Total Revenues (Calculated)\n",
       "0     6460.T               Japan                            277903000000\n",
       "1     6460.T    Northern America                             33373000000\n",
       "2     6460.T              Europe                             10937000000\n",
       "3     6460.T               Other                              9433000000\n",
       "4     6460.T       Segment Total                            331646000000\n",
       "5     6460.T  Consolidated Total                            331646000000"
      ]
     },
     "execution_count": 16,
     "metadata": {},
     "output_type": "execute_result"
    }
   ],
   "source": [
    "df,err = ek.get_data('6460.T', ['TR.BGS.GeoTotalRevenue.segmentName', 'TR.BGS.GeoTotalRevenue'])\n",
    "df"
   ]
  },
  {
   "cell_type": "code",
   "execution_count": 17,
   "metadata": {},
   "outputs": [
    {
     "data": {
      "text/html": [
       "<div>\n",
       "<style scoped>\n",
       "    .dataframe tbody tr th:only-of-type {\n",
       "        vertical-align: middle;\n",
       "    }\n",
       "\n",
       "    .dataframe tbody tr th {\n",
       "        vertical-align: top;\n",
       "    }\n",
       "\n",
       "    .dataframe thead th {\n",
       "        text-align: right;\n",
       "    }\n",
       "</style>\n",
       "<table border=\"1\" class=\"dataframe\">\n",
       "  <thead>\n",
       "    <tr style=\"text-align: right;\">\n",
       "      <th></th>\n",
       "      <th>RIC</th>\n",
       "      <th>Geographic</th>\n",
       "      <th>Sales in £m</th>\n",
       "    </tr>\n",
       "  </thead>\n",
       "  <tbody>\n",
       "    <tr>\n",
       "      <th>0</th>\n",
       "      <td>6460.T</td>\n",
       "      <td>Japan</td>\n",
       "      <td>277903000000</td>\n",
       "    </tr>\n",
       "    <tr>\n",
       "      <th>1</th>\n",
       "      <td>6460.T</td>\n",
       "      <td>Northern America</td>\n",
       "      <td>33373000000</td>\n",
       "    </tr>\n",
       "    <tr>\n",
       "      <th>2</th>\n",
       "      <td>6460.T</td>\n",
       "      <td>Europe</td>\n",
       "      <td>10937000000</td>\n",
       "    </tr>\n",
       "    <tr>\n",
       "      <th>3</th>\n",
       "      <td>6460.T</td>\n",
       "      <td>Other</td>\n",
       "      <td>9433000000</td>\n",
       "    </tr>\n",
       "    <tr>\n",
       "      <th>4</th>\n",
       "      <td>6460.T</td>\n",
       "      <td>Segment Total</td>\n",
       "      <td>331646000000</td>\n",
       "    </tr>\n",
       "    <tr>\n",
       "      <th>5</th>\n",
       "      <td>6460.T</td>\n",
       "      <td>Consolidated Total</td>\n",
       "      <td>331646000000</td>\n",
       "    </tr>\n",
       "  </tbody>\n",
       "</table>\n",
       "</div>"
      ],
      "text/plain": [
       "      RIC          Geographic   Sales in £m\n",
       "0  6460.T               Japan  277903000000\n",
       "1  6460.T    Northern America   33373000000\n",
       "2  6460.T              Europe   10937000000\n",
       "3  6460.T               Other    9433000000\n",
       "4  6460.T       Segment Total  331646000000\n",
       "5  6460.T  Consolidated Total  331646000000"
      ]
     },
     "execution_count": 17,
     "metadata": {},
     "output_type": "execute_result"
    }
   ],
   "source": [
    "df_sega = df.copy()\n",
    "\n",
    "df_sega.rename(columns={'Instrument':'RIC',\n",
    "                   'Segment Name':'Geographic',\n",
    "                   'Geographic Total Revenues (Calculated)':'Sales in £m'},\n",
    "         inplace = True)\n",
    "df_sega"
   ]
  },
  {
   "cell_type": "code",
   "execution_count": 18,
   "metadata": {},
   "outputs": [],
   "source": [
    "total_sale = df_sega.iloc[df_sega.shape[0] - 1][\"Sales in £m\"]"
   ]
  },
  {
   "cell_type": "code",
   "execution_count": 19,
   "metadata": {},
   "outputs": [],
   "source": [
    "df_sega = df_sega[df_sega[\"Geographic\"] != \"Segment Total\"]\n",
    "df_sega = df_sega[df_sega[\"Geographic\"] != \"Consolidated Total\"]"
   ]
  },
  {
   "cell_type": "code",
   "execution_count": 20,
   "metadata": {},
   "outputs": [
    {
     "data": {
      "image/png": "[encoded data removed]",
      "text/plain": [
       "<Figure size 432x288 with 1 Axes>"
      ]
     },
     "metadata": {
      "needs_background": "light"
     },
     "output_type": "display_data"
    }
   ],
   "source": [
    "# Graph\n",
    "\n",
    "df_sega.set_index(\"Geographic\",drop=True,inplace=True)\n",
    "\n",
    "fig = plt.figure()\n",
    "fig.text(.5, -.05, \"Total Sale %s\" %(f\"{total_sale:,.2f}\"), ha=\"center\",fontsize=\"large\")\n",
    "\n",
    "plt.ticklabel_format(style = 'plain')\n",
    "plt.title('Sega Geographic Sale Breakdown', color='black',fontsize=\"x-large\")\n",
    "ax = fig.gca()\n",
    "\n",
    "formatter = FuncFormatter(millions)\n",
    "ax.xaxis.set_major_formatter(formatter)\n",
    "\n",
    "df_sega.plot(kind='barh', ax = fig.gca())\n",
    "plt.show()"
   ]
  },
  {
   "cell_type": "markdown",
   "metadata": {},
   "source": [
    "### Konami\n",
    "\n",
    "RIC: 9766.T"
   ]
  },
  {
   "cell_type": "code",
   "execution_count": 21,
   "metadata": {},
   "outputs": [
    {
     "data": {
      "text/html": [
       "<div>\n",
       "<style scoped>\n",
       "    .dataframe tbody tr th:only-of-type {\n",
       "        vertical-align: middle;\n",
       "    }\n",
       "\n",
       "    .dataframe tbody tr th {\n",
       "        vertical-align: top;\n",
       "    }\n",
       "\n",
       "    .dataframe thead th {\n",
       "        text-align: right;\n",
       "    }\n",
       "</style>\n",
       "<table border=\"1\" class=\"dataframe\">\n",
       "  <thead>\n",
       "    <tr style=\"text-align: right;\">\n",
       "      <th></th>\n",
       "      <th>Instrument</th>\n",
       "      <th>Segment Name</th>\n",
       "      <th>Geographic Total Revenues (Calculated)</th>\n",
       "    </tr>\n",
       "  </thead>\n",
       "  <tbody>\n",
       "    <tr>\n",
       "      <th>0</th>\n",
       "      <td>9766.T</td>\n",
       "      <td>Japan</td>\n",
       "      <td>201775000000</td>\n",
       "    </tr>\n",
       "    <tr>\n",
       "      <th>1</th>\n",
       "      <td>9766.T</td>\n",
       "      <td>Europe</td>\n",
       "      <td>12890000000</td>\n",
       "    </tr>\n",
       "    <tr>\n",
       "      <th>2</th>\n",
       "      <td>9766.T</td>\n",
       "      <td>Asia/Oceania</td>\n",
       "      <td>7537000000</td>\n",
       "    </tr>\n",
       "    <tr>\n",
       "      <th>3</th>\n",
       "      <td>9766.T</td>\n",
       "      <td>Americas</td>\n",
       "      <td>40347000000</td>\n",
       "    </tr>\n",
       "    <tr>\n",
       "      <th>4</th>\n",
       "      <td>9766.T</td>\n",
       "      <td>Segment Total</td>\n",
       "      <td>262549000000</td>\n",
       "    </tr>\n",
       "    <tr>\n",
       "      <th>5</th>\n",
       "      <td>9766.T</td>\n",
       "      <td>Consolidated Total</td>\n",
       "      <td>262549000000</td>\n",
       "    </tr>\n",
       "  </tbody>\n",
       "</table>\n",
       "</div>"
      ],
      "text/plain": [
       "  Instrument        Segment Name  Geographic Total Revenues (Calculated)\n",
       "0     9766.T               Japan                            201775000000\n",
       "1     9766.T              Europe                             12890000000\n",
       "2     9766.T        Asia/Oceania                              7537000000\n",
       "3     9766.T            Americas                             40347000000\n",
       "4     9766.T       Segment Total                            262549000000\n",
       "5     9766.T  Consolidated Total                            262549000000"
      ]
     },
     "execution_count": 21,
     "metadata": {},
     "output_type": "execute_result"
    }
   ],
   "source": [
    "df,err = ek.get_data('9766.T', ['TR.BGS.GeoTotalRevenue.segmentName', 'TR.BGS.GeoTotalRevenue'])\n",
    "df"
   ]
  },
  {
   "cell_type": "code",
   "execution_count": 22,
   "metadata": {},
   "outputs": [
    {
     "data": {
      "text/html": [
       "<div>\n",
       "<style scoped>\n",
       "    .dataframe tbody tr th:only-of-type {\n",
       "        vertical-align: middle;\n",
       "    }\n",
       "\n",
       "    .dataframe tbody tr th {\n",
       "        vertical-align: top;\n",
       "    }\n",
       "\n",
       "    .dataframe thead th {\n",
       "        text-align: right;\n",
       "    }\n",
       "</style>\n",
       "<table border=\"1\" class=\"dataframe\">\n",
       "  <thead>\n",
       "    <tr style=\"text-align: right;\">\n",
       "      <th></th>\n",
       "      <th>RIC</th>\n",
       "      <th>Geographic</th>\n",
       "      <th>Sales in £m</th>\n",
       "    </tr>\n",
       "  </thead>\n",
       "  <tbody>\n",
       "    <tr>\n",
       "      <th>0</th>\n",
       "      <td>9766.T</td>\n",
       "      <td>Japan</td>\n",
       "      <td>201775000000</td>\n",
       "    </tr>\n",
       "    <tr>\n",
       "      <th>1</th>\n",
       "      <td>9766.T</td>\n",
       "      <td>Europe</td>\n",
       "      <td>12890000000</td>\n",
       "    </tr>\n",
       "    <tr>\n",
       "      <th>2</th>\n",
       "      <td>9766.T</td>\n",
       "      <td>Asia/Oceania</td>\n",
       "      <td>7537000000</td>\n",
       "    </tr>\n",
       "    <tr>\n",
       "      <th>3</th>\n",
       "      <td>9766.T</td>\n",
       "      <td>Americas</td>\n",
       "      <td>40347000000</td>\n",
       "    </tr>\n",
       "    <tr>\n",
       "      <th>4</th>\n",
       "      <td>9766.T</td>\n",
       "      <td>Segment Total</td>\n",
       "      <td>262549000000</td>\n",
       "    </tr>\n",
       "    <tr>\n",
       "      <th>5</th>\n",
       "      <td>9766.T</td>\n",
       "      <td>Consolidated Total</td>\n",
       "      <td>262549000000</td>\n",
       "    </tr>\n",
       "  </tbody>\n",
       "</table>\n",
       "</div>"
      ],
      "text/plain": [
       "      RIC          Geographic   Sales in £m\n",
       "0  9766.T               Japan  201775000000\n",
       "1  9766.T              Europe   12890000000\n",
       "2  9766.T        Asia/Oceania    7537000000\n",
       "3  9766.T            Americas   40347000000\n",
       "4  9766.T       Segment Total  262549000000\n",
       "5  9766.T  Consolidated Total  262549000000"
      ]
     },
     "execution_count": 22,
     "metadata": {},
     "output_type": "execute_result"
    }
   ],
   "source": [
    "df_konami = df.copy()\n",
    "\n",
    "df_konami.rename(columns={'Instrument':'RIC',\n",
    "                   'Segment Name':'Geographic',\n",
    "                   'Geographic Total Revenues (Calculated)':'Sales in £m'},\n",
    "         inplace = True)\n",
    "df_konami"
   ]
  },
  {
   "cell_type": "code",
   "execution_count": 23,
   "metadata": {},
   "outputs": [],
   "source": [
    "total_sale = df_konami.iloc[df_konami.shape[0] - 1][\"Sales in £m\"]"
   ]
  },
  {
   "cell_type": "code",
   "execution_count": 24,
   "metadata": {},
   "outputs": [],
   "source": [
    "df_konami = df_konami[df_konami[\"Geographic\"] != \"Segment Total\"]\n",
    "df_konami = df_konami[df_konami[\"Geographic\"] != \"Consolidated Total\"]"
   ]
  },
  {
   "cell_type": "code",
   "execution_count": 25,
   "metadata": {},
   "outputs": [
    {
     "data": {
      "image/png": "[encoded data removed]",
      "text/plain": [
       "<Figure size 432x288 with 1 Axes>"
      ]
     },
     "metadata": {
      "needs_background": "light"
     },
     "output_type": "display_data"
    }
   ],
   "source": [
    "# Graph\n",
    "\n",
    "df_konami.set_index(\"Geographic\",drop=True,inplace=True)\n",
    "\n",
    "fig = plt.figure()\n",
    "fig.text(.5, -.05, \"Total Sale %s\" %(f\"{total_sale:,.2f}\"), ha=\"center\",fontsize=\"large\")\n",
    "\n",
    "plt.ticklabel_format(style = 'plain')\n",
    "plt.title('Konami Geographic Sale Breakdown', color='black',fontsize=\"x-large\")\n",
    "ax = fig.gca()\n",
    "\n",
    "formatter = FuncFormatter(millions)\n",
    "ax.xaxis.set_major_formatter(formatter)\n",
    "\n",
    "df_konami.plot(kind='barh', ax = fig.gca())\n",
    "plt.show()"
   ]
  },
  {
   "cell_type": "code",
   "execution_count": null,
   "metadata": {},
   "outputs": [],
   "source": []
  }
 ],
 "metadata": {
  "kernelspec": {
   "display_name": "Python 3",
   "language": "python",
   "name": "python3"
  },
  "language_info": {
   "codemirror_mode": {
    "name": "ipython",
    "version": 3
   },
   "file_extension": ".py",
   "mimetype": "text/x-python",
   "name": "python",
   "nbconvert_exporter": "python",
   "pygments_lexer": "ipython3",
   "version": "3.7.6"
  }
 },
 "nbformat": 4,
 "nbformat_minor": 4
}
